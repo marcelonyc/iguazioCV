{
 "cells": [
  {
   "cell_type": "code",
   "execution_count": 3,
   "metadata": {},
   "outputs": [],
   "source": [
    "from v3io import dataplane\n",
    "import os"
   ]
  },
  {
   "cell_type": "code",
   "execution_count": 5,
   "metadata": {},
   "outputs": [],
   "source": [
    "%run ./set_env.ipynb"
   ]
  },
  {
   "cell_type": "code",
   "execution_count": 6,
   "metadata": {},
   "outputs": [],
   "source": [
    "def _create_schema(v3io_client):\n",
    "    v3io_client.create_schema(container=IGZ_CONTAINER,\n",
    "                              path=CAMERA_LIST_TBL,\n",
    "                              key='cameraID',\n",
    "                              fields=[\n",
    "                                  {'name': 'cameraID', 'type': 'string', 'nullable': False},\n",
    "                                  {'name': 'shard', 'type': 'long', 'nullable': False},\n",
    "                                  {'name': 'url', 'type': 'string', 'nullable': False},\n",
    "                                  {'name': 'active', 'type': 'boolean', 'nullable': False},\n",
    "                                  {'name': 'feed_method', 'type': 'string', 'nullable': False},\n",
    "                                  {'name': 'users', 'type': 'string', 'nullable': True},\n",
    "                                  {'name': 'password', 'type': 'string', 'nullable': True},\n",
    "                              ])\n",
    "    \n",
    "## feed_method pull or push\n",
    "## pull is handled server side in Iguazio"
   ]
  },
  {
   "cell_type": "code",
   "execution_count": 7,
   "metadata": {},
   "outputs": [],
   "source": [
    "# create configuration\n",
    "v3io_client = dataplane.Client(max_connections=1)\n",
    "_create_schema(v3io_client)"
   ]
  },
  {
   "cell_type": "code",
   "execution_count": 8,
   "metadata": {},
   "outputs": [],
   "source": [
    "def save_camera(cameraID,shard,url,active,feed_method):\n",
    "    # store in v3io\n",
    "    v3io_client.put_item(container=IGZ_CONTAINER,\n",
    "                         path=os.path.join(CAMERA_LIST_TBL,cameraID),\n",
    "    attributes={'cameraID': cameraID,\n",
    "                'shard': shard,\n",
    "               'url':url,\n",
    "                'feed_method': feed_method,\n",
    "               'active': active})"
   ]
  },
  {
   "cell_type": "markdown",
   "metadata": {},
   "source": [
    "# Insert camera\n",
    "One Camera per shard (Not enforced by this process)\n",
    "Here are two examples of pulling videos or receiving videos"
   ]
  },
  {
   "cell_type": "code",
   "execution_count": 9,
   "metadata": {},
   "outputs": [],
   "source": [
    "## feed_method pull or push\n",
    "## pull is handled server side in Iguazio\n",
    "active=True\n",
    "\n",
    "cameraID=\"1\"\n",
    "shard=0\n",
    "url=\"http://lf105.asuscomm.com:34521/img/video.mjpeg\"\n",
    "feed_method=\"pull\"\n",
    "save_camera(cameraID,shard,url,active,feed_method)\n",
    "\n",
    "cameraID=\"2\"\n",
    "shard=3\n",
    "url=\"d787a870-de3a-11ea-aaf0-00155d39d059\"  #(Use as password/secret)\n",
    "feed_method=\"push\"\n",
    "save_camera(cameraID,shard,url,active,feed_method)\n",
    "\n"
   ]
  },
  {
   "cell_type": "markdown",
   "metadata": {},
   "source": [
    "# Camera List"
   ]
  },
  {
   "cell_type": "code",
   "execution_count": 1,
   "metadata": {},
   "outputs": [],
   "source": [
    "import v3io_frames as v3f"
   ]
  },
  {
   "cell_type": "code",
   "execution_count": 4,
   "metadata": {},
   "outputs": [],
   "source": [
    "client = v3f.Client('framesd:8081',container=IGZ_CONTAINER)"
   ]
  },
  {
   "cell_type": "code",
   "execution_count": 5,
   "metadata": {},
   "outputs": [
    {
     "data": {
      "text/html": [
       "<div>\n",
       "<style scoped>\n",
       "    .dataframe tbody tr th:only-of-type {\n",
       "        vertical-align: middle;\n",
       "    }\n",
       "\n",
       "    .dataframe tbody tr th {\n",
       "        vertical-align: top;\n",
       "    }\n",
       "\n",
       "    .dataframe thead th {\n",
       "        text-align: right;\n",
       "    }\n",
       "</style>\n",
       "<table border=\"1\" class=\"dataframe\">\n",
       "  <thead>\n",
       "    <tr style=\"text-align: right;\">\n",
       "      <th></th>\n",
       "      <th>active</th>\n",
       "      <th>feed_method</th>\n",
       "      <th>password</th>\n",
       "      <th>shard</th>\n",
       "      <th>url</th>\n",
       "      <th>users</th>\n",
       "    </tr>\n",
       "    <tr>\n",
       "      <th>cameraID</th>\n",
       "      <th></th>\n",
       "      <th></th>\n",
       "      <th></th>\n",
       "      <th></th>\n",
       "      <th></th>\n",
       "      <th></th>\n",
       "    </tr>\n",
       "  </thead>\n",
       "  <tbody>\n",
       "    <tr>\n",
       "      <th>1</th>\n",
       "      <td>True</td>\n",
       "      <td>pull</td>\n",
       "      <td>None</td>\n",
       "      <td>0</td>\n",
       "      <td>http://lf105.asuscomm.com:34521/img/video.mjpeg</td>\n",
       "      <td>None</td>\n",
       "    </tr>\n",
       "    <tr>\n",
       "      <th>3</th>\n",
       "      <td>True</td>\n",
       "      <td>push</td>\n",
       "      <td>None</td>\n",
       "      <td>2</td>\n",
       "      <td>0</td>\n",
       "      <td>None</td>\n",
       "    </tr>\n",
       "  </tbody>\n",
       "</table>\n",
       "</div>"
      ],
      "text/plain": [
       "          active feed_method password  shard  \\\n",
       "cameraID                                       \n",
       "1           True        pull     None      0   \n",
       "3           True        push     None      2   \n",
       "\n",
       "                                                      url users  \n",
       "cameraID                                                         \n",
       "1         http://lf105.asuscomm.com:34521/img/video.mjpeg  None  \n",
       "3                                                       0  None  "
      ]
     },
     "execution_count": 5,
     "metadata": {},
     "output_type": "execute_result"
    }
   ],
   "source": [
    "df = client.read('kv',CAMERA_LIST_TBL)\n",
    "df"
   ]
  },
  {
   "cell_type": "markdown",
   "metadata": {},
   "source": [
    "# Update Camera"
   ]
  },
  {
   "cell_type": "code",
   "execution_count": 17,
   "metadata": {},
   "outputs": [],
   "source": [
    "from v3io import dataplane\n",
    "import os"
   ]
  },
  {
   "cell_type": "code",
   "execution_count": 18,
   "metadata": {},
   "outputs": [],
   "source": [
    "v3io_client = dataplane.Client(max_connections=1)"
   ]
  },
  {
   "cell_type": "code",
   "execution_count": 19,
   "metadata": {},
   "outputs": [],
   "source": [
    "def update_camera(cameraID,active,url):\n",
    "    # store in v3io\n",
    "    v3io_client.update_item(container=IGZ_CONTAINER,\n",
    "                         path=os.path.join(CAMERA_LIST_TBL,cameraID),\n",
    "    attributes={'cameraID': cameraID,\n",
    "               'active': active,\n",
    "               'url' : url })"
   ]
  },
  {
   "cell_type": "code",
   "execution_count": 20,
   "metadata": {},
   "outputs": [],
   "source": [
    "update_camera('4',True,'http://192.168.1.104:8080')"
   ]
  },
  {
   "cell_type": "code",
   "execution_count": null,
   "metadata": {},
   "outputs": [],
   "source": []
  }
 ],
 "metadata": {
  "kernelspec": {
   "display_name": "Python [conda env:.conda-mlrun-0.4.10]",
   "language": "python",
   "name": "conda-env-.conda-mlrun-0.4.10-py"
  },
  "language_info": {
   "codemirror_mode": {
    "name": "ipython",
    "version": 3
   },
   "file_extension": ".py",
   "mimetype": "text/x-python",
   "name": "python",
   "nbconvert_exporter": "python",
   "pygments_lexer": "ipython3",
   "version": "3.7.7"
  }
 },
 "nbformat": 4,
 "nbformat_minor": 4
}
