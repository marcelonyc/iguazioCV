{
 "cells": [
  {
   "cell_type": "code",
   "execution_count": null,
   "metadata": {},
   "outputs": [],
   "source": [
    "#!pip install git+https://github.com/mlrun/mlrun@fix-remote-nuclio"
   ]
  },
  {
   "cell_type": "markdown",
   "metadata": {},
   "source": [
    "### Subscribe to camera feeeds \n",
    "This function subscribes to a video feed and sends frames to \n",
    "an Iguazio stream"
   ]
  },
  {
   "cell_type": "code",
   "execution_count": 5,
   "metadata": {},
   "outputs": [],
   "source": [
    "import nuclio"
   ]
  },
  {
   "cell_type": "code",
   "execution_count": 6,
   "metadata": {},
   "outputs": [],
   "source": [
    "%run set_env.ipynb"
   ]
  },
  {
   "cell_type": "code",
   "execution_count": null,
   "metadata": {},
   "outputs": [],
   "source": [
    "# nuclio: start-code"
   ]
  },
  {
   "cell_type": "code",
   "execution_count": null,
   "metadata": {},
   "outputs": [],
   "source": [
    "import threading\n",
    "import cv2\n",
    "from cv2 import VideoWriter_fourcc, VideoWriter\n",
    "import sys\n",
    "import os\n",
    "import requests\n",
    "import v3io_frames as v3f\n",
    "import base64"
   ]
  },
  {
   "cell_type": "code",
   "execution_count": null,
   "metadata": {},
   "outputs": [],
   "source": [
    "def stream_frame_write(context,cameraID,frame,shard):\n",
    "    url = \"http://v3io-webapi:8081/%s/%s/\"% (os.getenv('IGZ_CONTAINER'),os.getenv('RAW_VIDEO_STREAM'))\n",
    "    headers = {\n",
    "            \"Content-Type\": \"application/json\",\n",
    "            \"X-v3io-function\": \"PutRecords\",\n",
    "            \"X-v3io-session-key\" : os.getenv(\"V3IO_ACCESS_KEY\")\n",
    "          }\n",
    "    data = base64.b64encode(frame)\n",
    "    payload = {\n",
    "            \"Records\": [\n",
    "                {\n",
    "                    \"Data\":  data.decode('utf-8'),\n",
    "                    \"ShardId\" : shard\n",
    "                    }\n",
    "                ]\n",
    "          }\n",
    "    r = requests.post(url, headers=headers,json=payload)   \n",
    "    return r.text"
   ]
  },
  {
   "cell_type": "code",
   "execution_count": null,
   "metadata": {},
   "outputs": [],
   "source": [
    "def _init_camera(context,\n",
    "                cameraID: str,\n",
    "                cameraURL:str,\n",
    "                shard: int):\n",
    "    \n",
    "    # Load the cascade\n",
    "    face_cascade = cv2.CascadeClassifier('/User/igzcustomers/toyota/haarcascade_frontalface_default.xml')\n",
    "\n",
    "    # To capture video from webcam.\n",
    "    cap = cv2.VideoCapture(cameraURL)\n",
    "    # To use a video file as input\n",
    "    # cap = cv2.VideoCapture('filename.mp4')\n",
    "    \n",
    "    while True:\n",
    "\n",
    "        # Display\n",
    "        #cv2.imshow('img', img)\n",
    "\n",
    "        fourcc = VideoWriter_fourcc(*'MPEG')\n",
    "        #fourcc = VideoWriter_fourcc(*'MP4V')\n",
    "        #out = VideoWriter(video_file, fourcc, 60.0, (640, 480))\n",
    "        running_size=0\n",
    "        while (cap.isOpened()):\n",
    "            ret, img = cap.read()\n",
    "            ret, buffer = cv2.imencode('.jpg', img)\n",
    "            #try:\n",
    "            if True:\n",
    "                r = stream_frame_write(context,cameraID,buffer.tobytes(),shard)\n",
    "                context.logger.debug(r)\n",
    "            #except:\n",
    "            #    context.logger.error(\"Failed to save frame to shard: %s\"% str(shard))\n",
    "            #save_count_and_image(face_count,'105lf')\n",
    "\n",
    "\n",
    "        # Stop if escape key is pressed\n",
    "        k = cv2.waitKey(30) & 0xff\n",
    "        if k==27:\n",
    "            break\n",
    "    # Release the VideoCapture object\n",
    "    cap.release()\n",
    "    "
   ]
  },
  {
   "cell_type": "code",
   "execution_count": null,
   "metadata": {},
   "outputs": [],
   "source": [
    "def get_cameras_list():\n",
    "    client = v3f.Client('framesd:8081',container=os.getenv('IGZ_CONTAINER'))\n",
    "    df=client.read('kv',os.getenv('CAMERA_LIST_TBL'))\n",
    "    return df"
   ]
  },
  {
   "cell_type": "code",
   "execution_count": null,
   "metadata": {},
   "outputs": [],
   "source": [
    "def handler(context, event):\n",
    "    return \"\""
   ]
  },
  {
   "cell_type": "code",
   "execution_count": null,
   "metadata": {},
   "outputs": [],
   "source": [
    "def init_context(context):\n",
    "    cameras_list = get_cameras_list()\n",
    "    for index, row in get_cameras_list().iterrows():\n",
    "        if row['active'] and row['feed_method'] == 'pull':\n",
    "            thread = threading.Thread(target=_init_camera, args=(context,index,row['url'],row['shard']))\n",
    "            thread.start()\n"
   ]
  },
  {
   "cell_type": "code",
   "execution_count": null,
   "metadata": {},
   "outputs": [],
   "source": [
    "# nuclio: end-code"
   ]
  },
  {
   "cell_type": "code",
   "execution_count": 7,
   "metadata": {},
   "outputs": [],
   "source": [
    "import os"
   ]
  },
  {
   "cell_type": "code",
   "execution_count": 8,
   "metadata": {},
   "outputs": [],
   "source": [
    "# nuclio: ignore\n",
    "# converts the notebook code to deployable function with configurations\n",
    "from mlrun import code_to_function, mount_v3io, mlconf\n",
    "import os\n",
    "\n",
    "fn = code_to_function('cameras-pull', kind='nuclio')"
   ]
  },
  {
   "cell_type": "code",
   "execution_count": null,
   "metadata": {},
   "outputs": [],
   "source": []
  },
  {
   "cell_type": "code",
   "execution_count": 9,
   "metadata": {},
   "outputs": [
    {
     "data": {
      "text/plain": [
       "<mlrun.runtimes.function.RemoteRuntime at 0x7f72d61ea510>"
      ]
     },
     "execution_count": 9,
     "metadata": {},
     "output_type": "execute_result"
    }
   ],
   "source": [
    "# set the API/trigger, attach the home dir to the function\n",
    "fn.with_http(workers=1).apply(mount_v3io())\n",
    "#fn.spec.build.base_image = 'mlrun/mlrun'\n",
    "fn.spec.base_spec['spec']['build']['baseImage'] = 'mlrun/mlrun'\n",
    "fn.spec.build.commands = ['pip install opencv-python==4.2.0.34 v3io_frames requests']\n",
    "fn.spec.min_replicas = 1\n",
    "fn.spec.max_replicas = 1\n",
    "fn.set_env('V3IO_ACCESS_KEY',os.getenv('V3IO_ACCESS_KEY'))\n",
    "fn.set_env('IGZ_CONTAINER',os.getenv('IGZ_CONTAINER'))\n",
    "fn.set_env('RAW_VIDEO_STREAM',os.getenv('RAW_VIDEO_STREAM'))\n",
    "fn.set_env('CAMERA_LIST_TBL',os.getenv('CAMERA_LIST_TBL'))\n",
    "fn.apply(mount_v3io())"
   ]
  },
  {
   "cell_type": "code",
   "execution_count": 11,
   "metadata": {},
   "outputs": [],
   "source": [
    "#print(fn.to_yaml())"
   ]
  },
  {
   "cell_type": "code",
   "execution_count": 12,
   "metadata": {},
   "outputs": [
    {
     "name": "stdout",
     "output_type": "stream",
     "text": [
      "> 2020-08-18 16:10:47,349 [info] deploy started\n",
      "[nuclio] 2020-08-18 16:10:48,445 (info) Build complete\n",
      "[nuclio] 2020-08-18 16:10:54,509 (info) Function deploy complete\n",
      "[nuclio] 2020-08-18 16:10:54,517 done updating objectrecognition-cameras-pull, function address: 3.129.97.78:30265\n"
     ]
    }
   ],
   "source": [
    "# nuclio: ignore\n",
    "addr = fn.deploy(project='objectrecognition')"
   ]
  },
  {
   "cell_type": "code",
   "execution_count": null,
   "metadata": {},
   "outputs": [],
   "source": []
  },
  {
   "cell_type": "code",
   "execution_count": null,
   "metadata": {},
   "outputs": [],
   "source": [
    "for index, row in get_cameras_list().iterrows():\n",
    "        print(row.keys(),index)\n",
    "        \n"
   ]
  },
  {
   "cell_type": "code",
   "execution_count": null,
   "metadata": {},
   "outputs": [],
   "source": []
  }
 ],
 "metadata": {
  "kernelspec": {
   "display_name": "Python [conda env:.conda-mlrun-0.5.1]",
   "language": "python",
   "name": "conda-env-.conda-mlrun-0.5.1-py"
  },
  "language_info": {
   "codemirror_mode": {
    "name": "ipython",
    "version": 3
   },
   "file_extension": ".py",
   "mimetype": "text/x-python",
   "name": "python",
   "nbconvert_exporter": "python",
   "pygments_lexer": "ipython3",
   "version": "3.7.7"
  }
 },
 "nbformat": 4,
 "nbformat_minor": 4
}
