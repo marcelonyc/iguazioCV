{
 "cells": [
  {
   "cell_type": "markdown",
   "metadata": {},
   "source": [
    "### Image retrieval function to be used by Grafana"
   ]
  },
  {
   "cell_type": "code",
   "execution_count": 8,
   "metadata": {},
   "outputs": [],
   "source": [
    "import nuclio"
   ]
  },
  {
   "cell_type": "code",
   "execution_count": 9,
   "metadata": {},
   "outputs": [],
   "source": [
    "%run set_env.ipynb"
   ]
  },
  {
   "cell_type": "code",
   "execution_count": 10,
   "metadata": {},
   "outputs": [],
   "source": [
    "# nuclio: start-code"
   ]
  },
  {
   "cell_type": "code",
   "execution_count": 46,
   "metadata": {},
   "outputs": [],
   "source": [
    "import requests\n",
    "import json\n",
    "import base64\n",
    "import os\n",
    "import time"
   ]
  },
  {
   "cell_type": "code",
   "execution_count": 47,
   "metadata": {},
   "outputs": [],
   "source": [
    "headers = {\n",
    "            \"Content-Type\": \"application/json\",\n",
    "            \"X-v3io-session-key\" : os.getenv(\"V3IO_ACCESS_KEY\")\n",
    "          }"
   ]
  },
  {
   "cell_type": "code",
   "execution_count": 37,
   "metadata": {},
   "outputs": [],
   "source": [
    "def seek_location(context,\n",
    "                  shardId: int = 0,\n",
    "                  container: str = '',\n",
    "                  stream: str = \"\",\n",
    "                  url = '',\n",
    "                 secondsLapsed = 1):\n",
    "    payload = {\n",
    "            \"ShardId\": shardId,\n",
    "            \"Type\": \"TIME\",\n",
    "        \"TimestampSec\":int(time.time())-secondsLapsed,\n",
    "        \"TimestampNSec\" : 0\n",
    "          }\n",
    "    headers[\"X-v3io-function\"] = \"Seek\"\n",
    "    r = requests.post(url, headers=headers,json=payload)\n",
    "    return json.loads(r.text)['Location']"
   ]
  },
  {
   "cell_type": "code",
   "execution_count": 38,
   "metadata": {},
   "outputs": [],
   "source": [
    "def get_image( context,\n",
    "              url,\n",
    "              shardId,\n",
    "              container,\n",
    "              stream,\n",
    "              secondsLapsed):\n",
    "    location = seek_location(context,shardId=shardId,\n",
    "                             container=container,\n",
    "                             stream=stream,\n",
    "                             url=url,\n",
    "                            secondsLapsed = secondsLapsed)\n",
    "    img_payload = {\n",
    "            \"ShardId\":    shardId,\n",
    "            \"Location\":   location,\n",
    "        \"Limit\":1\n",
    "    }\n",
    "    headers[\"X-v3io-function\"] = \"GetRecords\"\n",
    "    r = requests.post(url, headers=headers,json=img_payload)\n",
    "    \n",
    "    response=json.loads(r.text)\n",
    "    \n",
    "    return response"
   ]
  },
  {
   "cell_type": "code",
   "execution_count": 53,
   "metadata": {},
   "outputs": [],
   "source": [
    "def handler(context,event):\n",
    "    params = event.fields\n",
    "    shardId=int(params['shardId'])\n",
    "    container=params['container']\n",
    "    stream=params['stream']\n",
    "    \n",
    "    # Fire up the Kafka Consumer\n",
    "    url = \"http://v3io-webapi:8081/%s/%s/\"% (container,stream)\n",
    "    headers = { \"Content-Type\": \"application/json\",\n",
    "            \"X-v3io-session-key\" : os.getenv(\"V3IO_ACCESS_KEY\")\n",
    "    }\n",
    "\n",
    "    secondsLapsed = 1\n",
    "    while True:\n",
    "          response = get_image(context,url,shardId,container,stream,secondsLapsed )\n",
    "          data = False  \n",
    "          for record in response['Records']:\n",
    "                data = base64.b64decode(record['Data']) \n",
    "          if data:\n",
    "            break\n",
    "          else:\n",
    "              secondsLapsed += 1\n",
    "    \n",
    "    #img = np.asarray(bytearray(data), dtype=\"uint8\")\n",
    "    #img = cv2.imdecode(img,cv2.COLOR_BGR2RGBA)\n",
    "    #cv2.imshow('Faces',img)\n",
    "    #return context.Response(body=data,headers=None,content_type='image/jpeg',status_code=201)\n",
    "    return data"
   ]
  },
  {
   "cell_type": "code",
   "execution_count": 54,
   "metadata": {},
   "outputs": [],
   "source": [
    "# nuclio: end-code"
   ]
  },
  {
   "cell_type": "code",
   "execution_count": 55,
   "metadata": {},
   "outputs": [],
   "source": [
    "import os"
   ]
  },
  {
   "cell_type": "code",
   "execution_count": 56,
   "metadata": {},
   "outputs": [],
   "source": [
    "# nuclio: ignore\n",
    "# converts the notebook code to deployable function with configurations\n",
    "from mlrun import code_to_function, mount_v3io, mlconf\n",
    "import os\n",
    "\n",
    "fn = code_to_function('latest-image-retrieve', kind='nuclio')"
   ]
  },
  {
   "cell_type": "code",
   "execution_count": 57,
   "metadata": {},
   "outputs": [
    {
     "data": {
      "text/plain": [
       "<mlrun.runtimes.function.RemoteRuntime at 0x7fc68b4cde50>"
      ]
     },
     "execution_count": 57,
     "metadata": {},
     "output_type": "execute_result"
    }
   ],
   "source": [
    "# set the API/trigger, attach the home dir to the function\n",
    "fn.with_http(workers=1).apply(mount_v3io())\n",
    "#fn.spec.build.base_image = 'mlrun/mlrun'\n",
    "fn.spec.base_spec['spec']['build']['baseImage'] = 'python:3.6-jessie'\n",
    "fn.spec.build.commands = ['pip install opencv-python==4.2.0.34 v3io_frames requests']\n",
    "fn.spec.min_replicas = 1\n",
    "fn.spec.max_replicas = 1\n",
    "fn.set_env('V3IO_ACCESS_KEY',os.getenv('V3IO_ACCESS_KEY'))\n",
    "fn.set_env('IGZ_CONTAINER',IGZ_CONTAINER)\n",
    "fn.set_env('RAW_VIDEO_STREAM',RAW_VIDEO_STREAM)\n",
    "fn.set_env('TAGGED_VIDEO_STREAM',TAGGED_VIDEO_STREAM)\n",
    "fn.set_env('CAMERA_LIST_TBL',CAMERA_LIST_TBL)\n",
    "fn.apply(mount_v3io())"
   ]
  },
  {
   "cell_type": "code",
   "execution_count": 58,
   "metadata": {},
   "outputs": [],
   "source": [
    "#print(fn.to_yaml())"
   ]
  },
  {
   "cell_type": "code",
   "execution_count": 59,
   "metadata": {},
   "outputs": [
    {
     "name": "stdout",
     "output_type": "stream",
     "text": [
      "> 2020-08-18 16:46:41,526 [info] deploy started\n",
      "[nuclio] 2020-08-18 16:46:48,744 (info) Build complete\n",
      "[nuclio] 2020-08-18 16:46:54,827 (info) Function deploy complete\n",
      "[nuclio] 2020-08-18 16:46:54,836 done updating objectrecognition-latest-image-retrieve, function address: 3.129.97.78:31298\n"
     ]
    }
   ],
   "source": [
    "# nuclio: ignore\n",
    "addr = fn.deploy(project='objectrecognition')"
   ]
  },
  {
   "cell_type": "code",
   "execution_count": null,
   "metadata": {},
   "outputs": [],
   "source": []
  }
 ],
 "metadata": {
  "kernelspec": {
   "display_name": "Python [conda env:.conda-mlrun-0.5.1]",
   "language": "python",
   "name": "conda-env-.conda-mlrun-0.5.1-py"
  },
  "language_info": {
   "codemirror_mode": {
    "name": "ipython",
    "version": 3
   },
   "file_extension": ".py",
   "mimetype": "text/x-python",
   "name": "python",
   "nbconvert_exporter": "python",
   "pygments_lexer": "ipython3",
   "version": "3.7.7"
  }
 },
 "nbformat": 4,
 "nbformat_minor": 4
}
