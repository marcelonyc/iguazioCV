{
 "cells": [
  {
   "cell_type": "code",
   "execution_count": 2,
   "metadata": {},
   "outputs": [],
   "source": [
    "import nuclio"
   ]
  },
  {
   "cell_type": "code",
   "execution_count": 3,
   "metadata": {},
   "outputs": [],
   "source": [
    "%run set_env.ipynb"
   ]
  },
  {
   "cell_type": "code",
   "execution_count": 4,
   "metadata": {},
   "outputs": [
    {
     "name": "stdout",
     "output_type": "stream",
     "text": [
      "%nuclio: setting 'SHARD' environment variable\n",
      "%nuclio: setting 'V3IO_ACCESS_KEY' environment variable\n",
      "%nuclio: setting 'IGZ_CONTAINER' environment variable\n",
      "%nuclio: setting 'RAW_VIDEO_STREAM' environment variable\n",
      "%nuclio: setting 'TAGGED_VIDEO_STREAM' environment variable\n",
      "%nuclio: setting 'LOWRES_VIDEO_STREAM' environment variable\n",
      "%nuclio: setting 'CAMERA_LIST_TBL' environment variable\n"
     ]
    }
   ],
   "source": [
    "%%nuclio env \n",
    "SHARD=0\n",
    "V3IO_ACCESS_KEY=${V3IO_ACCESS_KEY}\n",
    "IGZ_CONTAINER=${IGZ_CONTAINER} \n",
    "RAW_VIDEO_STREAM=${RAW_VIDEO_STREAM}\n",
    "TAGGED_VIDEO_STREAM=${TAGGED_VIDEO_STREAM}\n",
    "LOWRES_VIDEO_STREAM=${LOWRES_VIDEO_STREAM} \n",
    "CAMERA_LIST_TBL=${CAMERA_LIST_TBL} "
   ]
  },
  {
   "cell_type": "code",
   "execution_count": 5,
   "metadata": {},
   "outputs": [
    {
     "name": "stdout",
     "output_type": "stream",
     "text": [
      "mounting volume path /User as /users/admin\n"
     ]
    }
   ],
   "source": [
    "%nuclio mount /User /users/admin"
   ]
  },
  {
   "cell_type": "code",
   "execution_count": null,
   "metadata": {},
   "outputs": [],
   "source": [
    "%%nuclio cmd -c\n",
    "pip install requests opencv-python"
   ]
  },
  {
   "cell_type": "code",
   "execution_count": null,
   "metadata": {},
   "outputs": [],
   "source": [
    "# nuclio: start-code"
   ]
  },
  {
   "cell_type": "code",
   "execution_count": 2,
   "metadata": {},
   "outputs": [],
   "source": [
    "import requests\n",
    "import json\n",
    "import base64\n",
    "import os\n",
    "import time"
   ]
  },
  {
   "cell_type": "code",
   "execution_count": 23,
   "metadata": {},
   "outputs": [],
   "source": [
    "def seek_location(context,\n",
    "                  shardId: int = 0,\n",
    "                  container: str = '',\n",
    "                  stream: str = \"\",\n",
    "                  url = '',\n",
    "                 headers = '',\n",
    "                 secondsLapsed = 1):\n",
    "    payload = {\n",
    "            \"ShardId\": shardId,\n",
    "            \"Type\": \"TIME\",\n",
    "        \"TimestampSec\":int(time.time())-secondsLapsed,\n",
    "        \"TimestampNSec\" : 0\n",
    "          }\n",
    "    headers[\"X-v3io-function\"] = \"Seek\"\n",
    "    r = requests.post(url, headers=headers,json=payload)\n",
    "    return json.loads(r.text)['Location']"
   ]
  },
  {
   "cell_type": "code",
   "execution_count": null,
   "metadata": {},
   "outputs": [],
   "source": [
    "def get_image( context,\n",
    "              url,\n",
    "              shardId,\n",
    "              container,\n",
    "              stream,\n",
    "              secondsLapsed):\n",
    "    location = seek_location(context,shardId=shardId,\n",
    "                             container=container,\n",
    "                             stream=stream,\n",
    "                             url=url,\n",
    "                            headers=headers,\n",
    "                            secondsLapsed = secondsLapsed)\n",
    "    img_payload = {\n",
    "            \"ShardId\":    shardId,\n",
    "            \"Location\":   location,\n",
    "        \"Limit\":1\n",
    "    }\n",
    "    headers[\"X-v3io-function\"] = \"GetRecords\"\n",
    "    r = requests.post(url, headers=headers,json=img_payload)\n",
    "    \n",
    "    response=json.loads(r.text)\n",
    "    for record in response['Records']:\n",
    "        data = base64.b64decode(record['Data'])\n",
    "    \n",
    "    return data"
   ]
  },
  {
   "cell_type": "code",
   "execution_count": 24,
   "metadata": {},
   "outputs": [],
   "source": [
    "def handler(context,event):\n",
    "    params = event.fields\n",
    "    shardId=int(params['shardId'])\n",
    "    container=params['container']\n",
    "    stream=params['stream']\n",
    "    \n",
    "    # Fire up the Kafka Consumer\n",
    "    url = \"http://v3io-webapi:8081/%s/%s/\"% (container,stream)\n",
    "    headers = { \"Content-Type\": \"application/json\",\n",
    "            \"X-v3io-session-key\" : os.getenv(\"V3IO_ACCESS_KEY\")\n",
    "    }\n",
    "\n",
    "    secondsLapsed = 1\n",
    "    while not data in get_image(context,url,shardId,container,stream,secondsLapsed)\n",
    "          secondsLapsed += 1\n",
    "    \n",
    "    #img = np.asarray(bytearray(data), dtype=\"uint8\")\n",
    "    #img = cv2.imdecode(img,cv2.COLOR_BGR2RGBA)\n",
    "    #cv2.imshow('Faces',img)\n",
    "    #return context.Response(body=data,headers=None,content_type='image/jpeg',status_code=201)\n",
    "    return data"
   ]
  },
  {
   "cell_type": "code",
   "execution_count": 25,
   "metadata": {},
   "outputs": [],
   "source": [
    "# nuclio: end-code"
   ]
  },
  {
   "cell_type": "code",
   "execution_count": 26,
   "metadata": {},
   "outputs": [
    {
     "name": "stdout",
     "output_type": "stream",
     "text": [
      "[nuclio] 2020-07-05 16:47:05,405 (info) Build complete\n",
      "[nuclio] 2020-07-05 16:47:11,463 (info) Function deploy complete\n",
      "[nuclio] 2020-07-05 16:47:11,471 done updating latest-image-retrieve, function address: 3.128.161.62:32746\n",
      "%nuclio: function deployed\n"
     ]
    }
   ],
   "source": [
    "%nuclio deploy -p objectrecognition -n latest-image-retrieve -c"
   ]
  },
  {
   "cell_type": "code",
   "execution_count": 3,
   "metadata": {},
   "outputs": [],
   "source": [
    "event = nuclio.Event(body=b'jkk')"
   ]
  },
  {
   "cell_type": "code",
   "execution_count": null,
   "metadata": {},
   "outputs": [],
   "source": [
    "handler(context,event)"
   ]
  },
  {
   "cell_type": "code",
   "execution_count": 4,
   "metadata": {},
   "outputs": [
    {
     "data": {
      "text/plain": [
       "{}"
      ]
     },
     "execution_count": 4,
     "metadata": {},
     "output_type": "execute_result"
    }
   ],
   "source": [
    "event."
   ]
  },
  {
   "cell_type": "code",
   "execution_count": null,
   "metadata": {},
   "outputs": [],
   "source": []
  }
 ],
 "metadata": {
  "kernelspec": {
   "display_name": "Python [conda env:.conda-mlrun-0.4.10]",
   "language": "python",
   "name": "conda-env-.conda-mlrun-0.4.10-py"
  },
  "language_info": {
   "codemirror_mode": {
    "name": "ipython",
    "version": 3
   },
   "file_extension": ".py",
   "mimetype": "text/x-python",
   "name": "python",
   "nbconvert_exporter": "python",
   "pygments_lexer": "ipython3",
   "version": "3.7.7"
  }
 },
 "nbformat": 4,
 "nbformat_minor": 4
}
