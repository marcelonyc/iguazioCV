{
 "cells": [
  {
   "cell_type": "code",
   "execution_count": null,
   "metadata": {},
   "outputs": [],
   "source": [
    "import cv2\n",
    "from cv2 import VideoWriter_fourcc, VideoWriter\n",
    "import sys\n",
    "import os\n",
    "import requests\n",
    "import v3io_frames as v3f\n",
    "import base64\n",
    "import time"
   ]
  },
  {
   "cell_type": "code",
   "execution_count": 2,
   "metadata": {},
   "outputs": [
    {
     "ename": "NameError",
     "evalue": "name 'os' is not defined",
     "output_type": "error",
     "traceback": [
      "\u001b[0;31m---------------------------------------------------------------------------\u001b[0m",
      "\u001b[0;31mNameError\u001b[0m                                 Traceback (most recent call last)",
      "\u001b[0;32m<ipython-input-2-365fd0138751>\u001b[0m in \u001b[0;36m<module>\u001b[0;34m\u001b[0m\n\u001b[1;32m      2\u001b[0m \u001b[0murllib3\u001b[0m\u001b[0;34m.\u001b[0m\u001b[0mdisable_warnings\u001b[0m\u001b[0;34m(\u001b[0m\u001b[0murllib3\u001b[0m\u001b[0;34m.\u001b[0m\u001b[0mexceptions\u001b[0m\u001b[0;34m.\u001b[0m\u001b[0mInsecureRequestWarning\u001b[0m\u001b[0;34m)\u001b[0m\u001b[0;34m\u001b[0m\u001b[0;34m\u001b[0m\u001b[0m\n\u001b[1;32m      3\u001b[0m \u001b[0;34m\u001b[0m\u001b[0m\n\u001b[0;32m----> 4\u001b[0;31m \u001b[0murl\u001b[0m \u001b[0;34m=\u001b[0m \u001b[0;34m\"http://%s/%s/%s/\"\u001b[0m\u001b[0;34m%\u001b[0m \u001b[0;34m(\u001b[0m\u001b[0mos\u001b[0m\u001b[0;34m.\u001b[0m\u001b[0mgetenv\u001b[0m\u001b[0;34m(\u001b[0m\u001b[0;34m'V3IO_WEBAPI'\u001b[0m\u001b[0;34m)\u001b[0m\u001b[0;34m,\u001b[0m\u001b[0mos\u001b[0m\u001b[0;34m.\u001b[0m\u001b[0mgetenv\u001b[0m\u001b[0;34m(\u001b[0m\u001b[0;34m'IGZ_CONTAINER'\u001b[0m\u001b[0;34m)\u001b[0m\u001b[0;34m,\u001b[0m\u001b[0mos\u001b[0m\u001b[0;34m.\u001b[0m\u001b[0mgetenv\u001b[0m\u001b[0;34m(\u001b[0m\u001b[0;34m'RAW_VIDEO_STREAM'\u001b[0m\u001b[0;34m)\u001b[0m\u001b[0;34m)\u001b[0m\u001b[0;34m\u001b[0m\u001b[0;34m\u001b[0m\u001b[0m\n\u001b[0m\u001b[1;32m      5\u001b[0m headers = {\n\u001b[1;32m      6\u001b[0m             \u001b[0;34m\"Content-Type\"\u001b[0m\u001b[0;34m:\u001b[0m \u001b[0;34m\"application/json\"\u001b[0m\u001b[0;34m,\u001b[0m\u001b[0;34m\u001b[0m\u001b[0;34m\u001b[0m\u001b[0m\n",
      "\u001b[0;31mNameError\u001b[0m: name 'os' is not defined"
     ]
    }
   ],
   "source": [
    "import urllib3\n",
    "urllib3.disable_warnings(urllib3.exceptions.InsecureRequestWarning)\n",
    "\n",
    "url = \"http://%s/%s/%s/\"% (os.getenv('V3IO_WEBAPI'),os.getenv('IGZ_CONTAINER'),os.getenv('RAW_VIDEO_STREAM'))\n",
    "headers = {\n",
    "            \"Content-Type\": \"application/json\",\n",
    "            \"X-v3io-function\": \"PutRecords\",\n",
    "            \"X-v3io-session-key\" : os.getenv(\"V3IO_ACCESS_KEY\")\n",
    "          }"
   ]
  },
  {
   "cell_type": "code",
   "execution_count": null,
   "metadata": {},
   "outputs": [],
   "source": [
    "def stream_frame_write(cameraID,payload):\n",
    "    bef = time.time()\n",
    "    r = requests.post(url, headers=headers,json=payload, verify=False)   \n",
    "    time_diff = time.time()-bef\n",
    "    print(\"Post time %s. Response %s\"% (time_diff, r.text))\n",
    "    return r.text"
   ]
  },
  {
   "cell_type": "code",
   "execution_count": 3,
   "metadata": {},
   "outputs": [],
   "source": [
    "def start_capture(cameraID: str,\n",
    "                cameraURL:str,\n",
    "                shard: int):\n",
    "\n",
    "    # To capture video from webcam.\n",
    "    cap = cv2.VideoCapture(cameraURL)\n",
    "    # To use a video file as input\n",
    "    # cap = cv2.VideoCapture('filename.mp4')\n",
    "    data_count = 1\n",
    "    while True:\n",
    "\n",
    "        # Display\n",
    "        #cv2.imshow('img', img)\n",
    "\n",
    "        fourcc = VideoWriter_fourcc(*'MPEG')\n",
    "        running_size=0\n",
    "        Records=[]\n",
    "        while (cap.isOpened()):\n",
    "            ret, img = cap.read()\n",
    "            ret, buffer = cv2.imencode('.jpg', img)\n",
    "            data = base64.b64encode(buffer)\n",
    "            Records.append({\n",
    "                    \"Data\":  data.decode('utf-8'),\n",
    "                    \"ShardId\" : shard\n",
    "                    })\n",
    "            if data_count == 20:\n",
    "                try:\n",
    "                    payload = {\"Records\": Records}\n",
    "                    r = stream_frame_write(cameraID,payload)\n",
    "                    Records = []\n",
    "                except:\n",
    "                    print(\"Failed to write to shard %s\"% shard)\n",
    "                data_count = 1\n",
    "            else:\n",
    "                data_count += 1\n",
    "                \n",
    "            \n",
    "\n",
    "\n",
    "        # Stop if escape key is pressed\n",
    "        #k = cv2.waitKey(0) & 0xff\n",
    "        #if k==27:\n",
    "        #    break\n",
    "    # Release the VideoCapture object\n",
    "    cap.release()\n",
    "    "
   ]
  },
  {
   "cell_type": "code",
   "execution_count": 4,
   "metadata": {},
   "outputs": [],
   "source": [
    "def get_cameras_list():\n",
    "    client = v3f.Client(os.getenv('V3IO_FRAMES'),container=os.getenv('IGZ_CONTAINER'))\n",
    "    df=client.read('kv',os.getenv('CAMERA_LIST_TBL'))\n",
    "    return df"
   ]
  },
  {
   "cell_type": "code",
   "execution_count": 5,
   "metadata": {},
   "outputs": [],
   "source": [
    "def init_function():\n",
    "    cameraID = os.getenv('cameraID')\n",
    "    shardId = int(os.getenv('shardId'))\n",
    "    cameraURL = os.getenv('cameraURL')\n",
    "    \n",
    "    if isinstance(cameraURL, int):\n",
    "        cameraURL = int(cameraURL)\n",
    "        \n",
    "    cameras_list = get_cameras_list()\n",
    "    for index, row in get_cameras_list().iterrows():\n",
    "        if index == cameraID  and row['shard'] == shardId and row['url'] == cameraURL and row['active'] == True:\n",
    "            start_capture(cameraID,cameraURL,shardId)\n",
    "    print(\"Invalid camera\")"
   ]
  },
  {
   "cell_type": "code",
   "execution_count": 6,
   "metadata": {},
   "outputs": [
    {
     "ename": "NameError",
     "evalue": "name 'os' is not defined",
     "output_type": "error",
     "traceback": [
      "\u001b[0;31m---------------------------------------------------------------------------\u001b[0m",
      "\u001b[0;31mNameError\u001b[0m                                 Traceback (most recent call last)",
      "\u001b[0;32m<ipython-input-6-ea8aac7fe9af>\u001b[0m in \u001b[0;36m<module>\u001b[0;34m\u001b[0m\n\u001b[0;32m----> 1\u001b[0;31m \u001b[0minit_function\u001b[0m\u001b[0;34m(\u001b[0m\u001b[0;34m)\u001b[0m\u001b[0;34m\u001b[0m\u001b[0;34m\u001b[0m\u001b[0m\n\u001b[0m",
      "\u001b[0;32m<ipython-input-5-e4a8c1858fdb>\u001b[0m in \u001b[0;36minit_function\u001b[0;34m()\u001b[0m\n\u001b[1;32m      1\u001b[0m \u001b[0;32mdef\u001b[0m \u001b[0minit_function\u001b[0m\u001b[0;34m(\u001b[0m\u001b[0;34m)\u001b[0m\u001b[0;34m:\u001b[0m\u001b[0;34m\u001b[0m\u001b[0;34m\u001b[0m\u001b[0m\n\u001b[0;32m----> 2\u001b[0;31m     \u001b[0mcameraID\u001b[0m \u001b[0;34m=\u001b[0m \u001b[0mos\u001b[0m\u001b[0;34m.\u001b[0m\u001b[0mgetenv\u001b[0m\u001b[0;34m(\u001b[0m\u001b[0;34m'cameraID'\u001b[0m\u001b[0;34m)\u001b[0m\u001b[0;34m\u001b[0m\u001b[0;34m\u001b[0m\u001b[0m\n\u001b[0m\u001b[1;32m      3\u001b[0m     \u001b[0mshardId\u001b[0m \u001b[0;34m=\u001b[0m \u001b[0mint\u001b[0m\u001b[0;34m(\u001b[0m\u001b[0mos\u001b[0m\u001b[0;34m.\u001b[0m\u001b[0mgetenv\u001b[0m\u001b[0;34m(\u001b[0m\u001b[0;34m'shardId'\u001b[0m\u001b[0;34m)\u001b[0m\u001b[0;34m)\u001b[0m\u001b[0;34m\u001b[0m\u001b[0;34m\u001b[0m\u001b[0m\n\u001b[1;32m      4\u001b[0m     \u001b[0mcameraURL\u001b[0m \u001b[0;34m=\u001b[0m \u001b[0mos\u001b[0m\u001b[0;34m.\u001b[0m\u001b[0mgetenv\u001b[0m\u001b[0;34m(\u001b[0m\u001b[0;34m'cameraURL'\u001b[0m\u001b[0;34m)\u001b[0m\u001b[0;34m\u001b[0m\u001b[0;34m\u001b[0m\u001b[0m\n\u001b[1;32m      5\u001b[0m \u001b[0;34m\u001b[0m\u001b[0m\n",
      "\u001b[0;31mNameError\u001b[0m: name 'os' is not defined"
     ]
    }
   ],
   "source": [
    "init_function()\n"
   ]
  },
  {
   "cell_type": "markdown",
   "metadata": {},
   "source": [
    "Variables needed for container operations\n",
    "\n",
    "V3IO_ACCESS_KEY\n",
    "\n",
    "V3IO_USERNAME\n",
    "\n",
    "V3IO_WEBAPI\n",
    "\n",
    "V3IO_FRAMES \n",
    "\n",
    "IGZ_CONTAINER\n",
    "\n",
    "RAW_VIDEO_STREAM\n",
    "\n",
    "CAMERA_LIST_TBL\n",
    "\n",
    "shardId\n",
    "\n",
    "cameraID\n",
    "\n",
    "cameraURL"
   ]
  },
  {
   "cell_type": "code",
   "execution_count": null,
   "metadata": {},
   "outputs": [],
   "source": []
  }
 ],
 "metadata": {
  "kernelspec": {
   "display_name": "Python [conda env:.conda-mlrun-0.4.10]",
   "language": "python",
   "name": "conda-env-.conda-mlrun-0.4.10-py"
  },
  "language_info": {
   "codemirror_mode": {
    "name": "ipython",
    "version": 3
   },
   "file_extension": ".py",
   "mimetype": "text/x-python",
   "name": "python",
   "nbconvert_exporter": "python",
   "pygments_lexer": "ipython3",
   "version": "3.7.7"
  }
 },
 "nbformat": 4,
 "nbformat_minor": 4
}
