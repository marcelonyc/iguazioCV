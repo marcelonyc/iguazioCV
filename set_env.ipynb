{
 "cells": [
  {
   "cell_type": "code",
   "execution_count": null,
   "metadata": {},
   "outputs": [],
   "source": [
    "import os"
   ]
  },
  {
   "cell_type": "code",
   "execution_count": null,
   "metadata": {},
   "outputs": [],
   "source": [
    "IGZ_CONTAINER = 'bigdata'\n",
    "RAW_VIDEO_STREAM = 'objectrecognition/videostream'\n",
    "TAGGED_VIDEO_STREAM = 'objectrecognition/taggedvideos'\n",
    "LOWRES_VIDEO_STREAM = 'objectrecognition/lowresvideos'\n",
    "CAMERA_LIST_TBL = 'objectrecognition/camera_list'\n",
    "CASCADE_CLASSIFIER = '/User/igzcustomers/toyota/haarcascade_frontalface_default.xml'"
   ]
  },
  {
   "cell_type": "code",
   "execution_count": null,
   "metadata": {},
   "outputs": [],
   "source": [
    "os.environ['IGZ_CONTAINER'] = IGZ_CONTAINER\n",
    "os.environ['RAW_VIDEO_STREAM']=RAW_VIDEO_STREAM\n",
    "os.environ['TAGGED_VIDEO_STREAM']=TAGGED_VIDEO_STREAM\n",
    "os.environ['LOWRES_VIDEO_STREAM']=LOWRES_VIDEO_STREAM \n",
    "os.environ['CAMERA_LIST_TBL']=CAMERA_LIST_TBL\n",
    "os.environ['CASCADE_CLASSIFIER']=CASCADE_CLASSIFIER"
   ]
  }
 ],
 "metadata": {
  "kernelspec": {
   "display_name": "Python 3",
   "language": "python",
   "name": "python3"
  },
  "language_info": {
   "codemirror_mode": {
    "name": "ipython",
    "version": 3
   },
   "file_extension": ".py",
   "mimetype": "text/x-python",
   "name": "python",
   "nbconvert_exporter": "python",
   "pygments_lexer": "ipython3",
   "version": "3.6.8"
  }
 },
 "nbformat": 4,
 "nbformat_minor": 4
}
